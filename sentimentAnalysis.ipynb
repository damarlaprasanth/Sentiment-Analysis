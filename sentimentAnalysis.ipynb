{
 "cells": [
  {
   "cell_type": "code",
   "execution_count": 45,
   "id": "friendly-passenger",
   "metadata": {},
   "outputs": [],
   "source": [
    "import pandas as pd\n",
    "import numpy as np\n",
    "import matplotlib.pyplot as plt\n",
    "import seaborn as sn\n",
    "import re\n",
    "import copy\n",
    "import time\n",
    "from bs4 import BeautifulSoup\n",
    "from nltk.corpus import stopwords\n",
    "\n",
    "from math import *\n",
    "from itertools import repeat\n",
    "from collections import Counter\n",
    "\n",
    "from sklearn.metrics import confusion_matrix, accuracy_score\n",
    "from sklearn.model_selection import train_test_split, ShuffleSplit, GridSearchCV\n",
    "from sklearn.feature_extraction.text import CountVectorizer\n",
    "from sklearn.preprocessing import LabelEncoder\n",
    "\n",
    "import seaborn as sns\n",
    "import os\n",
    "import random as rnd\n",
    "import scipy.optimize as optimize\n",
    "import scipy.stats as sts\n",
    "from sklearn.svm import LinearSVC\n",
    "from sklearn.utils import check_random_state\n",
    "from sklearn.metrics import accuracy_score\n",
    "\n",
    "import warnings\n",
    "warnings.filterwarnings(\"ignore\")"
   ]
  },
  {
   "cell_type": "code",
   "execution_count": 3,
   "id": "nearby-usage",
   "metadata": {},
   "outputs": [],
   "source": [
    "stop = stopwords.words(\"english\")"
   ]
  },
  {
   "cell_type": "code",
   "execution_count": 4,
   "id": "spoken-witch",
   "metadata": {},
   "outputs": [],
   "source": [
    "# loading datasets\n",
    "dataset = pd.read_csv(\"./IMDB Dataset.csv\")"
   ]
  },
  {
   "cell_type": "code",
   "execution_count": 5,
   "id": "distant-flight",
   "metadata": {},
   "outputs": [
    {
     "data": {
      "text/html": [
       "<div>\n",
       "<style scoped>\n",
       "    .dataframe tbody tr th:only-of-type {\n",
       "        vertical-align: middle;\n",
       "    }\n",
       "\n",
       "    .dataframe tbody tr th {\n",
       "        vertical-align: top;\n",
       "    }\n",
       "\n",
       "    .dataframe thead th {\n",
       "        text-align: right;\n",
       "    }\n",
       "</style>\n",
       "<table border=\"1\" class=\"dataframe\">\n",
       "  <thead>\n",
       "    <tr style=\"text-align: right;\">\n",
       "      <th></th>\n",
       "      <th>review</th>\n",
       "      <th>sentiment</th>\n",
       "    </tr>\n",
       "  </thead>\n",
       "  <tbody>\n",
       "    <tr>\n",
       "      <th>0</th>\n",
       "      <td>One of the other reviewers has mentioned that ...</td>\n",
       "      <td>positive</td>\n",
       "    </tr>\n",
       "    <tr>\n",
       "      <th>1</th>\n",
       "      <td>A wonderful little production. &lt;br /&gt;&lt;br /&gt;The...</td>\n",
       "      <td>positive</td>\n",
       "    </tr>\n",
       "    <tr>\n",
       "      <th>2</th>\n",
       "      <td>I thought this was a wonderful way to spend ti...</td>\n",
       "      <td>positive</td>\n",
       "    </tr>\n",
       "    <tr>\n",
       "      <th>3</th>\n",
       "      <td>Basically there's a family where a little boy ...</td>\n",
       "      <td>negative</td>\n",
       "    </tr>\n",
       "    <tr>\n",
       "      <th>4</th>\n",
       "      <td>Petter Mattei's \"Love in the Time of Money\" is...</td>\n",
       "      <td>positive</td>\n",
       "    </tr>\n",
       "  </tbody>\n",
       "</table>\n",
       "</div>"
      ],
      "text/plain": [
       "                                              review sentiment\n",
       "0  One of the other reviewers has mentioned that ...  positive\n",
       "1  A wonderful little production. <br /><br />The...  positive\n",
       "2  I thought this was a wonderful way to spend ti...  positive\n",
       "3  Basically there's a family where a little boy ...  negative\n",
       "4  Petter Mattei's \"Love in the Time of Money\" is...  positive"
      ]
     },
     "execution_count": 5,
     "metadata": {},
     "output_type": "execute_result"
    }
   ],
   "source": [
    "dataset.head()"
   ]
  },
  {
   "cell_type": "code",
   "execution_count": 6,
   "id": "defined-morocco",
   "metadata": {},
   "outputs": [
    {
     "data": {
      "text/plain": [
       "Index(['review', 'sentiment'], dtype='object')"
      ]
     },
     "execution_count": 6,
     "metadata": {},
     "output_type": "execute_result"
    }
   ],
   "source": [
    "# printing all the column names\n",
    "dataset.columns"
   ]
  },
  {
   "cell_type": "code",
   "execution_count": 7,
   "id": "amber-connection",
   "metadata": {},
   "outputs": [
    {
     "data": {
      "text/html": [
       "<div>\n",
       "<style scoped>\n",
       "    .dataframe tbody tr th:only-of-type {\n",
       "        vertical-align: middle;\n",
       "    }\n",
       "\n",
       "    .dataframe tbody tr th {\n",
       "        vertical-align: top;\n",
       "    }\n",
       "\n",
       "    .dataframe thead th {\n",
       "        text-align: right;\n",
       "    }\n",
       "</style>\n",
       "<table border=\"1\" class=\"dataframe\">\n",
       "  <thead>\n",
       "    <tr style=\"text-align: right;\">\n",
       "      <th></th>\n",
       "      <th>review</th>\n",
       "      <th>sentiment</th>\n",
       "    </tr>\n",
       "  </thead>\n",
       "  <tbody>\n",
       "    <tr>\n",
       "      <th>count</th>\n",
       "      <td>50000</td>\n",
       "      <td>50000</td>\n",
       "    </tr>\n",
       "    <tr>\n",
       "      <th>unique</th>\n",
       "      <td>49582</td>\n",
       "      <td>2</td>\n",
       "    </tr>\n",
       "    <tr>\n",
       "      <th>top</th>\n",
       "      <td>Loved today's show!!! It was a variety and not...</td>\n",
       "      <td>negative</td>\n",
       "    </tr>\n",
       "    <tr>\n",
       "      <th>freq</th>\n",
       "      <td>5</td>\n",
       "      <td>25000</td>\n",
       "    </tr>\n",
       "  </tbody>\n",
       "</table>\n",
       "</div>"
      ],
      "text/plain": [
       "                                                   review sentiment\n",
       "count                                               50000     50000\n",
       "unique                                              49582         2\n",
       "top     Loved today's show!!! It was a variety and not...  negative\n",
       "freq                                                    5     25000"
      ]
     },
     "execution_count": 7,
     "metadata": {},
     "output_type": "execute_result"
    }
   ],
   "source": [
    "# descriptive summary of the dataset\n",
    "dataset.describe()"
   ]
  },
  {
   "cell_type": "code",
   "execution_count": 8,
   "id": "terminal-elder",
   "metadata": {},
   "outputs": [],
   "source": [
    "# separating features and targets\n",
    "y = dataset['sentiment']\n",
    "x = dataset['review']"
   ]
  },
  {
   "cell_type": "code",
   "execution_count": 9,
   "id": "conscious-share",
   "metadata": {},
   "outputs": [],
   "source": [
    "def cleaning_words(raw):\n",
    "    htmlFree = BeautifulSoup(raw, \"html.parser\")\n",
    "    letters = re.sub(\"[^a-zA-Z]\", \" \", htmlFree.get_text())\n",
    "    lowCase = letters.lower()\n",
    "    words = lowCase.split()\n",
    "    useful = [w for w in words if not w in stop]\n",
    "    return \" \".join(useful)"
   ]
  },
  {
   "cell_type": "code",
   "execution_count": 10,
   "id": "invisible-poultry",
   "metadata": {},
   "outputs": [],
   "source": [
    "x = np.array(list(map(cleaning_words, x)))"
   ]
  },
  {
   "cell_type": "code",
   "execution_count": 11,
   "id": "hairy-register",
   "metadata": {},
   "outputs": [],
   "source": [
    "encoder = LabelEncoder()\n",
    "y = encoder.fit_transform(y)"
   ]
  },
  {
   "cell_type": "code",
   "execution_count": 12,
   "id": "portable-worcester",
   "metadata": {},
   "outputs": [],
   "source": [
    "X_train, X_test, y_train, y_test = train_test_split(x[:10000],\n",
    "                                                    y[:10000],\n",
    "                                                    random_state=0)"
   ]
  },
  {
   "cell_type": "code",
   "execution_count": 13,
   "id": "flying-clerk",
   "metadata": {},
   "outputs": [
    {
     "data": {
      "text/plain": [
       "((750,), (250,))"
      ]
     },
     "execution_count": 13,
     "metadata": {},
     "output_type": "execute_result"
    }
   ],
   "source": [
    "X_train.shape, X_test.shape"
   ]
  },
  {
   "cell_type": "code",
   "execution_count": 14,
   "id": "noble-statement",
   "metadata": {},
   "outputs": [],
   "source": [
    "vect = CountVectorizer(min_df=5, ngram_range=(1, 2)).fit(X_train)\n",
    "X_train_vetorised = vect.transform(X_train)\n",
    "X_test_vetorised = vect.transform(X_test)"
   ]
  },
  {
   "cell_type": "code",
   "execution_count": 15,
   "id": "reported-conference",
   "metadata": {},
   "outputs": [
    {
     "data": {
      "text/plain": [
       "3226"
      ]
     },
     "execution_count": 15,
     "metadata": {},
     "output_type": "execute_result"
    }
   ],
   "source": [
    "len(vect.get_feature_names())"
   ]
  },
  {
   "cell_type": "markdown",
   "id": "harmful-aggregate",
   "metadata": {},
   "source": [
    "### logistic regression\n"
   ]
  },
  {
   "cell_type": "code",
   "execution_count": 16,
   "id": "greatest-relationship",
   "metadata": {},
   "outputs": [],
   "source": [
    "def sigmoid(X, theta):\n",
    "    z = np.dot(theta, X.T)\n",
    "    return 1 / (1 + np.exp(-(z))) - 0.0000001"
   ]
  },
  {
   "cell_type": "code",
   "execution_count": 17,
   "id": "million-elevation",
   "metadata": {},
   "outputs": [],
   "source": [
    "def costFunction(X, y, theta):\n",
    "    yhat = sigmoid(X, theta)\n",
    "    return -(1 / len(X)) * np.sum(y * np.log(yhat) +\n",
    "                                  (1 - y) * np.log(1 - yhat))"
   ]
  },
  {
   "cell_type": "code",
   "execution_count": 18,
   "id": "ready-greeting",
   "metadata": {},
   "outputs": [],
   "source": [
    "def gradientDescentFunction(X, y, theta, alpha, epochs):\n",
    "    losses = [costFunction(X, y, theta)]\n",
    "    previousTemp = 0\n",
    "    cnt = 0\n",
    "    for i in range(epochs):\n",
    "        h = sigmoid(X, theta)\n",
    "        for i in range(0, len(X.columns)):\n",
    "            theta[i] += (alpha / len(X)) * np.sum((h - y) * X.iloc[:, i])\n",
    "        temp = costFunction(X, y, theta)\n",
    "        if temp == previousTemp:\n",
    "            cnt += 1\n",
    "        else:\n",
    "            previousTemp = temp\n",
    "            cnt = 0\n",
    "        if cnt == epochs * 0.1:\n",
    "            print(\"Early stopping!!! Convergence occurred\")\n",
    "            break\n",
    "        losses.append(temp)\n",
    "    return losses, theta"
   ]
  },
  {
   "cell_type": "code",
   "execution_count": 19,
   "id": "rural-politics",
   "metadata": {},
   "outputs": [],
   "source": [
    "def train(X, y, theta, alpha, epochs):\n",
    "    lossValues, weights = gradientDescentFunction(X, y, theta, alpha, epochs)\n",
    "    return lossValues, weights"
   ]
  },
  {
   "cell_type": "code",
   "execution_count": 20,
   "id": "fossil-rogers",
   "metadata": {},
   "outputs": [],
   "source": [
    "def predict(X, theta):\n",
    "    pred = sigmoid(X, theta)\n",
    "    for i in range(len(pred)):\n",
    "        if pred[i] >= 0.5:\n",
    "            pred[i] = 1\n",
    "        else:\n",
    "            pred[i] = 0\n",
    "    return pred"
   ]
  },
  {
   "cell_type": "code",
   "execution_count": 21,
   "id": "labeled-warrior",
   "metadata": {},
   "outputs": [],
   "source": [
    "def accuracy_score(ytrue, ypred):\n",
    "    ytrue = list(ytrue)\n",
    "    acc = np.sum([ytrue[i] == ypred[i]\n",
    "                  for i in range(len(ytrue))]) / len(ytrue)\n",
    "    return acc"
   ]
  },
  {
   "cell_type": "code",
   "execution_count": 22,
   "id": "heavy-photographer",
   "metadata": {},
   "outputs": [],
   "source": [
    "df = pd.DataFrame(X_train_vetorised.toarray())"
   ]
  },
  {
   "cell_type": "code",
   "execution_count": 23,
   "id": "artistic-insurance",
   "metadata": {},
   "outputs": [],
   "source": [
    "theta = [0.0] * len(df.columns)\n",
    "loss, weights = train(df, y_train, theta, 0.0000001, 100)"
   ]
  },
  {
   "cell_type": "code",
   "execution_count": 24,
   "id": "breeding-celebrity",
   "metadata": {},
   "outputs": [],
   "source": [
    "testDf = pd.DataFrame(X_test_vetorised.toarray())\n",
    "predictedValues = predict(testDf, weights)"
   ]
  },
  {
   "cell_type": "code",
   "execution_count": 25,
   "id": "demonstrated-single",
   "metadata": {},
   "outputs": [],
   "source": [
    "logisticAccuracy = accuracy_score(y_test, predictedValues) * 100"
   ]
  },
  {
   "cell_type": "code",
   "execution_count": 26,
   "id": "aware-shepherd",
   "metadata": {},
   "outputs": [
    {
     "name": "stdout",
     "output_type": "stream",
     "text": [
      "Accuracy of logistic Regressin:  32.0\n"
     ]
    }
   ],
   "source": [
    "print((\"Accuracy of logistic Regression: \", logisticAccuracy))"
   ]
  },
  {
   "cell_type": "markdown",
   "id": "electrical-desire",
   "metadata": {},
   "source": [
    "### KNN "
   ]
  },
  {
   "cell_type": "code",
   "execution_count": 38,
   "id": "informed-productivity",
   "metadata": {},
   "outputs": [],
   "source": [
    "def euclidean(x, y): return sqrt(sum((x - y)**2))"
   ]
  },
  {
   "cell_type": "code",
   "execution_count": 39,
   "id": "nutritional-piece",
   "metadata": {},
   "outputs": [],
   "source": [
    "K = 4\n",
    "predicted_labels = []\n",
    "for data in testDf.values:\n",
    "    distances = list(map(euclidean, repeat(data), df.values))\n",
    "    distanceIndex = [\n",
    "        x for x, y in sorted(enumerate(distances), key=lambda x: x[1])\n",
    "    ]\n",
    "    distances.sort()\n",
    "\n",
    "    temp = {}\n",
    "    for idx, dist in zip(distanceIndex[:K], distances[:K]):\n",
    "        label = y_train[idx]\n",
    "        if temp.get(label):\n",
    "            temp[label] = temp[label] + (1 / dist)\n",
    "        else:\n",
    "            try:\n",
    "                temp[label] = (1 / dist)\n",
    "            except:\n",
    "                temp[label] = 0\n",
    "    predicted_labels.append(Counter(temp).most_common(1)[0][0])"
   ]
  },
  {
   "cell_type": "code",
   "execution_count": 41,
   "id": "educated-capability",
   "metadata": {},
   "outputs": [
    {
     "name": "stdout",
     "output_type": "stream",
     "text": [
      "Accuracy of KNN:  52.400000000000006\n"
     ]
    }
   ],
   "source": [
    "classificationCount = 0\n",
    "for true, pred in zip(y_test, predicted_labels):\n",
    "    if true == pred:\n",
    "        classificationCount += 1\n",
    "\n",
    "score = (classificationCount / len(y_test)) * 100\n",
    "print((\"Accuracy of KNN: \", score))"
   ]
  },
  {
   "cell_type": "markdown",
   "id": "magnetic-innocent",
   "metadata": {},
   "source": [
    "### Sparse SVM"
   ]
  },
  {
   "cell_type": "code",
   "execution_count": 28,
   "id": "herbal-thickness",
   "metadata": {},
   "outputs": [],
   "source": [
    "class SVM:\n",
    "    EPSILON = 1e-30\n",
    "\n",
    "    def __init__(self,\n",
    "                 kerType='poly',\n",
    "                 svmType='C',\n",
    "                 V=0.45,\n",
    "                 C=1,\n",
    "                 p=1,\n",
    "                 sigma=1,\n",
    "                 kappa=1,\n",
    "                 delta=1):\n",
    "        self.kerType = kerType\n",
    "        self.svmType = svmType\n",
    "        self.V = V\n",
    "        self.C = C\n",
    "        self.p = p\n",
    "        self.sigma = sigma\n",
    "        self.kappa = kappa\n",
    "        self.delta = delta\n",
    "        self.bTrained = False\n",
    "\n",
    "    def kernel(self, x, y):\n",
    "        k = (np.dot(x, y) + 1)**self.p\n",
    "        return k\n",
    "\n",
    "    def lagrange(self, params, y, K):\n",
    "        N = np.shape(params)[0]\n",
    "        a = params.reshape((N, 1))\n",
    "        y = y.reshape((N, 1))\n",
    "        w = np.multiply(a, y)\n",
    "        L = (1 / 2) * w.T.dot(K).dot(w) - np.sum(a)\n",
    "        return L\n",
    "\n",
    "    def pred(self, X):\n",
    "        N_sv = np.shape(self.X_sv)[0]\n",
    "        N = np.shape(X)[0]\n",
    "        a = self.a.reshape(N_sv, 1)\n",
    "        Y_sv = self.Y_sv.reshape(N_sv, 1)\n",
    "        w = np.multiply(a, Y_sv)\n",
    "        K = np.zeros((N_sv, N))\n",
    "        for i in range(N_sv):\n",
    "            for j in range(N):\n",
    "                K[i, j] = self.kernel(self.X_sv[i], X[j])\n",
    "        y = np.sign(w.T.dot(K) + self.b)\n",
    "        y = y.reshape(-1)\n",
    "        return y\n",
    "\n",
    "    def train(self, X_tr, Y_tr):\n",
    "        N_tr = np.shape(X_tr)[0]\n",
    "        K = np.zeros((N_tr, N_tr))\n",
    "        for i in range(N_tr):\n",
    "            for j in range(N_tr):\n",
    "                K[i, j] = self.kernel(X_tr[i], X_tr[j])\n",
    "        args = (Y_tr, K)\n",
    "\n",
    "        bounds = []\n",
    "        for i in range(0, N_tr):\n",
    "            bounds.append((0, self.C))\n",
    "\n",
    "        def constraint_a(params):\n",
    "            N = np.shape(params)[0]\n",
    "            a = params.reshape((N, 1))\n",
    "            y = Y_tr.reshape((N, 1))\n",
    "            return np.sum(a.T.dot(y))\n",
    "\n",
    "        def constraint_b(params):\n",
    "            N = np.shape(params)[0]\n",
    "            a = params.reshape((N, 1))\n",
    "            return np.sum(a) - self.V\n",
    "\n",
    "        cons = {'type': 'eq', 'fun': constraint_a}\n",
    "\n",
    "        initial = np.zeros(N_tr)\n",
    "        opt_dic = {'maxiter': 1000, 'disp': False}\n",
    "        final = optimize.minimize(self.lagrange,\n",
    "                                  initial,\n",
    "                                  args,\n",
    "                                  bounds=bounds,\n",
    "                                  constraints=cons,\n",
    "                                  method='SLSQP',\n",
    "                                  options=opt_dic)\n",
    "\n",
    "        if final.success != True:\n",
    "            raise FailedOptimizationError(\n",
    "                \"FailedOptimizationError: The optimization was not successful.\"\n",
    "            )\n",
    "\n",
    "        a = final.x[0:N_tr]\n",
    "        m_set_ind = np.logical_and(a > self.EPSILON, a < self.C)\n",
    "        s_set_ind = a > self.EPSILON\n",
    "\n",
    "        b_sum = 0\n",
    "        for n in range(N_tr):\n",
    "            if m_set_ind[n] == True:\n",
    "                p_sum = 0\n",
    "                for m in range(N_tr):\n",
    "                    if s_set_ind[m] == True:\n",
    "                        p_sum += a[m] * Y_tr[m] * K[n, m]\n",
    "                b_sum += Y_tr[n] - p_sum\n",
    "        b = b_sum / np.sum(m_set_ind)\n",
    "\n",
    "        a = a[s_set_ind]\n",
    "        X_sv = X_tr[s_set_ind]\n",
    "        Y_sv = Y_tr[s_set_ind]\n",
    "\n",
    "        self.a = a\n",
    "        self.b = b\n",
    "        self.X_sv = X_sv\n",
    "        self.Y_sv = Y_sv\n",
    "        self.bTrained = True"
   ]
  },
  {
   "cell_type": "code",
   "execution_count": 33,
   "id": "transparent-handbook",
   "metadata": {},
   "outputs": [],
   "source": [
    "clf = LinearSVC(penalty=\"l1\",\n",
    "                loss=\"squared_hinge\",\n",
    "                dual=False,\n",
    "                tol=1e-3,\n",
    "                max_iter=10)\n",
    "cs = np.logspace(-2.3, -1.3, 10)\n",
    "colors = [\"navy\", \"cyan\", \"darkorange\"]\n",
    "lw = 2\n",
    "param_grid = dict(C=cs)\n",
    "grid = GridSearchCV(\n",
    "    clf,\n",
    "    refit=False,\n",
    "    param_grid=param_grid,\n",
    "    cv=ShuffleSplit(train_size=0.7, test_size=0.3, n_splits=50,\n",
    "                    random_state=1),\n",
    ")\n",
    "grid.fit(df, y_train)\n",
    "scores = grid.cv_results_[\"mean_test_score\"]"
   ]
  },
  {
   "cell_type": "code",
   "execution_count": 34,
   "id": "motivated-diesel",
   "metadata": {},
   "outputs": [
    {
     "data": {
      "text/plain": [
       "{'C': 0.05011872336272722}"
      ]
     },
     "execution_count": 34,
     "metadata": {},
     "output_type": "execute_result"
    }
   ],
   "source": [
    "grid.best_params_"
   ]
  },
  {
   "cell_type": "code",
   "execution_count": 35,
   "id": "reasonable-antenna",
   "metadata": {},
   "outputs": [
    {
     "data": {
      "text/plain": [
       "array([0.48595556, 0.57991111, 0.6144    , 0.64586667, 0.66737778,\n",
       "       0.68791111, 0.71075556, 0.72924444, 0.74071111, 0.74737778])"
      ]
     },
     "execution_count": 35,
     "metadata": {},
     "output_type": "execute_result"
    }
   ],
   "source": [
    "scores"
   ]
  },
  {
   "cell_type": "code",
   "execution_count": 65,
   "id": "smaller-course",
   "metadata": {},
   "outputs": [],
   "source": [
    "clf = LinearSVC(penalty=\"l1\",\n",
    "                loss=\"squared_hinge\",\n",
    "                dual=False,\n",
    "                tol=1e-3,\n",
    "                max_iter=10,\n",
    "                C=grid.best_params_['C'])\n",
    "clf.fit(df, y_train)\n",
    "ypred = clf.predict(testDf)"
   ]
  },
  {
   "cell_type": "code",
   "execution_count": 66,
   "id": "instructional-appreciation",
   "metadata": {},
   "outputs": [
    {
     "name": "stdout",
     "output_type": "stream",
     "text": [
      "Accuracy of Sparse SVM :  78.0\n"
     ]
    }
   ],
   "source": [
    "classificationCount = 0\n",
    "for true, pred in zip(y_test, ypred):\n",
    "    if true == pred:\n",
    "        classificationCount += 1\n",
    "\n",
    "SVMScore = (classificationCount / len(y_test)) * 100\n",
    "print(\"Accuracy of Sparse SVM : \", SVMScore)"
   ]
  },
  {
   "cell_type": "markdown",
   "id": "awful-depression",
   "metadata": {},
   "source": [
    "### Probabilistic Neural Network"
   ]
  },
  {
   "cell_type": "code",
   "execution_count": 50,
   "id": "adjacent-forty",
   "metadata": {},
   "outputs": [],
   "source": [
    "def Normalization(data):\n",
    "    m, n = np.shape(data)\n",
    "    Nor_feature = copy.deepcopy(data)\n",
    "    sample_sum = np.sqrt(np.sum(np.square(data), axis=1))\n",
    "    for i in range(n):\n",
    "        Nor_feature[:, i] = Nor_feature[:, i] / sample_sum\n",
    "\n",
    "    return Nor_feature\n",
    "\n",
    "\n",
    "def distance(X, Y):\n",
    "    return np.sum(np.square(X - Y), axis=1)\n",
    "\n",
    "\n",
    "def distance_mat(Nor_trainX, Nor_testX):\n",
    "    m, n = np.shape(Nor_trainX)\n",
    "    p = np.shape(Nor_testX)[0]\n",
    "    Euclidean_D = np.mat(np.zeros((p, m)))\n",
    "    for i in range(p):\n",
    "        for j in range(m):\n",
    "            Euclidean_D[i, j] = distance(Nor_testX[i, :], Nor_trainX[j, :])[0,\n",
    "                                                                            0]\n",
    "    return Euclidean_D\n",
    "\n",
    "\n",
    "def Gauss(Euclidean_D, sigma):\n",
    "    m, n = np.shape(Euclidean_D)\n",
    "    Gauss = np.mat(np.zeros((m, n)))\n",
    "    for i in range(m):\n",
    "        for j in range(n):\n",
    "            Gauss[i, j] = exp(-Euclidean_D[i, j] / (2 * (sigma**2)))\n",
    "    return Gauss\n",
    "\n",
    "\n",
    "def Prob_mat(Gauss_mat, labelX):\n",
    "    label_class = []\n",
    "    for i in range(len(labelX)):\n",
    "        if labelX[i] not in label_class:\n",
    "            label_class.append(labelX[i])\n",
    "\n",
    "    n_class = len(label_class)\n",
    "    p, m = np.shape(Gauss_mat)\n",
    "    Prob = np.mat(np.zeros((p, n_class)))\n",
    "    for i in range(p):\n",
    "        for j in range(m):\n",
    "            for s in range(n_class):\n",
    "                if labelX[j] == label_class[s]:\n",
    "                    Prob[i, s] += Gauss_mat[i, j]\n",
    "    Prob_mat = copy.deepcopy(Prob)\n",
    "    Prob_mat = Prob_mat / np.sum(Prob, axis=1)\n",
    "    return Prob_mat, label_class\n",
    "\n",
    "\n",
    "def calss_results(Prob, label_class):\n",
    "    arg_prob = np.argmax(Prob, axis=1)\n",
    "    results = []\n",
    "    for i in range(len(arg_prob)):\n",
    "        results.append(label_class[arg_prob[i, 0]])\n",
    "    return results"
   ]
  },
  {
   "cell_type": "code",
   "execution_count": 51,
   "id": "julian-express",
   "metadata": {},
   "outputs": [],
   "source": [
    "Nor_trainX = Normalization(np.mat(df))\n",
    "Nor_testX = Normalization(np.mat(testDf))\n",
    "\n",
    "Euclidean_D = distance_mat(Nor_trainX, Nor_testX)\n",
    "Gauss_mat = Gauss(Euclidean_D, 0.1)"
   ]
  },
  {
   "cell_type": "code",
   "execution_count": 53,
   "id": "signed-worcester",
   "metadata": {},
   "outputs": [],
   "source": [
    "Prob, label_class = Prob_mat(Gauss_mat, y_train)\n",
    "predict_results = calss_results(Prob, label_class)"
   ]
  },
  {
   "cell_type": "code",
   "execution_count": 54,
   "id": "pleased-lincoln",
   "metadata": {},
   "outputs": [
    {
     "name": "stdout",
     "output_type": "stream",
     "text": [
      "Accuracy of PNN :  45.2\n"
     ]
    }
   ],
   "source": [
    "classificationCount = 0\n",
    "for true, pred in zip(y_test, predict_results):\n",
    "    if true == pred:\n",
    "        classificationCount += 1\n",
    "\n",
    "PNNScore = (classificationCount / len(y_test)) * 100\n",
    "print(\"Accuracy of PNN : \", PNNScore)"
   ]
  },
  {
   "cell_type": "code",
   "execution_count": 55,
   "id": "blind-young",
   "metadata": {},
   "outputs": [
    {
     "data": {
      "image/png": "[encoded data removed]",
      "text/plain": [
       "<Figure size 432x288 with 1 Axes>"
      ]
     },
     "metadata": {
      "needs_background": "light"
     },
     "output_type": "display_data"
    }
   ],
   "source": [
    "labels = [\"Logistic\", \"KNN\", \"Sparse SVM\", \"PNN\"]\n",
    "values = [logisticAccuracy, score, SVMScore, PNNScore]\n",
    "plt.bar(labels, values)\n",
    "plt.xlabel(\"Model\")\n",
    "plt.ylabel(\"Accuracy\")\n",
    "plt.title(\"Comparison of the model\")\n",
    "plt.show()"
   ]
  },
  {
   "cell_type": "code",
   "execution_count": 67,
   "id": "caroline-skirt",
   "metadata": {},
   "outputs": [],
   "source": [
    "import pickle\n",
    "\n",
    "fname = \"SentimentModel.sav\"\n",
    "\n",
    "with open(fname, 'wb') as fout:\n",
    "    pickle.dump((vect, clf), fout)"
   ]
  },
  {
   "cell_type": "code",
   "execution_count": null,
   "id": "finished-strip",
   "metadata": {},
   "outputs": [],
   "source": []
  }
 ],
 "metadata": {
  "kernelspec": {
   "display_name": "Python 3",
   "language": "python",
   "name": "python3"
  },
  "language_info": {
   "codemirror_mode": {
    "name": "ipython",
    "version": 3
   },
   "file_extension": ".py",
   "mimetype": "text/x-python",
   "name": "python",
   "nbconvert_exporter": "python",
   "pygments_lexer": "ipython3",
   "version": "3.6.8"
  },
  "nbTranslate": {
   "displayLangs": [
    "*"
   ],
   "hotkey": "alt-t",
   "langInMainMenu": true,
   "sourceLang": "en",
   "targetLang": "fr",
   "useGoogleTranslate": true
  },
  "toc": {
   "base_numbering": 1,
   "nav_menu": {},
   "number_sections": true,
   "sideBar": true,
   "skip_h1_title": false,
   "title_cell": "Table of Contents",
   "title_sidebar": "Contents",
   "toc_cell": false,
   "toc_position": {},
   "toc_section_display": true,
   "toc_window_display": false
  },
  "varInspector": {
   "cols": {
    "lenName": 16,
    "lenType": 16,
    "lenVar": 40
   },
   "kernels_config": {
    "python": {
     "delete_cmd_postfix": "",
     "delete_cmd_prefix": "del ",
     "library": "var_list.py",
     "varRefreshCmd": "print(var_dic_list())"
    },
    "r": {
     "delete_cmd_postfix": ") ",
     "delete_cmd_prefix": "rm(",
     "library": "var_list.r",
     "varRefreshCmd": "cat(var_dic_list()) "
    }
   },
   "types_to_exclude": [
    "module",
    "function",
    "builtin_function_or_method",
    "instance",
    "_Feature"
   ],
   "window_display": false
  }
 },
 "nbformat": 4,
 "nbformat_minor": 5
}
